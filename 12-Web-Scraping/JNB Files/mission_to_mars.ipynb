{
 "cells": [
  {
   "cell_type": "code",
   "execution_count": 1,
   "metadata": {},
   "outputs": [],
   "source": [
    "# Dependencies\n",
    "from selenium import webdriver\n",
    "from bs4 import BeautifulSoup\n",
    "import requests\n",
    "import time \n",
    "import pprint\n",
    "import pandas as pd\n",
    "import numpy as np"
   ]
  },
  {
   "cell_type": "code",
   "execution_count": 2,
   "metadata": {},
   "outputs": [],
   "source": [
    "browser = webdriver.Chrome('windows/chromedriver')\n",
    "url1 = 'https://mars.nasa.gov/news/?page=0&per_page=40&order=publish_date+desc%2Ccreated_at+desc&search=&category=19%2C165%2C184%2C204&blank_scope=Latest'\n",
    "url2 = 'https://www.jpl.nasa.gov/spaceimages/?search=&category=Mars'\n",
    "url3 = \"https://twitter.com/marswxreport?lang=en\"\n",
    "url4 = \"https://space-facts.com/mars/\"\n",
    "url5 = \"https://astrogeology.usgs.gov/search/results?q=hemisphere+enhanced&k1=target&v1=Mars\"\n",
    "#browser.get(url1)\n"
   ]
  },
  {
   "cell_type": "code",
   "execution_count": 3,
   "metadata": {},
   "outputs": [],
   "source": [
    "# 1.\n",
    "html1 = browser.page_source\n",
    "soup1 = BeautifulSoup(html1, 'html.parser')\n",
    "headlines = soup1.find_all('div', class_=\"content_title\")\n",
    "paragraphs = soup1.find_all('div', class_=\"article_teaser_body\")"
   ]
  },
  {
   "cell_type": "code",
   "execution_count": 4,
   "metadata": {
    "scrolled": true
   },
   "outputs": [
    {
     "ename": "IndexError",
     "evalue": "list index out of range",
     "output_type": "error",
     "traceback": [
      "\u001b[1;31m---------------------------------------------------------------------------\u001b[0m",
      "\u001b[1;31mIndexError\u001b[0m                                Traceback (most recent call last)",
      "\u001b[1;32m<ipython-input-4-87c6b23ad1b2>\u001b[0m in \u001b[0;36m<module>\u001b[1;34m\u001b[0m\n\u001b[1;32m----> 1\u001b[1;33m \u001b[0mheadline\u001b[0m \u001b[1;33m=\u001b[0m \u001b[0mheadlines\u001b[0m\u001b[1;33m[\u001b[0m\u001b[1;36m0\u001b[0m\u001b[1;33m]\u001b[0m\u001b[1;33m\u001b[0m\u001b[1;33m\u001b[0m\u001b[0m\n\u001b[0m\u001b[0;32m      2\u001b[0m \u001b[0mnews_title\u001b[0m \u001b[1;33m=\u001b[0m \u001b[0mheadline\u001b[0m\u001b[1;33m.\u001b[0m\u001b[0ma\u001b[0m\u001b[1;33m.\u001b[0m\u001b[0mtext\u001b[0m\u001b[1;33m\u001b[0m\u001b[1;33m\u001b[0m\u001b[0m\n\u001b[0;32m      3\u001b[0m \u001b[0mprint\u001b[0m\u001b[1;33m(\u001b[0m\u001b[1;34m\"News Title: \"\u001b[0m \u001b[1;33m+\u001b[0m \u001b[0mnews_title\u001b[0m\u001b[1;33m)\u001b[0m\u001b[1;33m\u001b[0m\u001b[1;33m\u001b[0m\u001b[0m\n\u001b[0;32m      4\u001b[0m \u001b[1;33m\u001b[0m\u001b[0m\n\u001b[0;32m      5\u001b[0m \u001b[0mparagraph\u001b[0m \u001b[1;33m=\u001b[0m \u001b[0mparagraphs\u001b[0m\u001b[1;33m[\u001b[0m\u001b[1;36m0\u001b[0m\u001b[1;33m]\u001b[0m\u001b[1;33m\u001b[0m\u001b[1;33m\u001b[0m\u001b[0m\n",
      "\u001b[1;31mIndexError\u001b[0m: list index out of range"
     ]
    }
   ],
   "source": [
    "headline = headlines[0]\n",
    "news_title = headline.a.text\n",
    "print(\"News Title: \" + news_title)\n",
    "        \n",
    "paragraph = paragraphs[0]\n",
    "news_p = paragraph.text\n",
    "print(\"\\n\" + \"Content: \" + news_p)"
   ]
  },
  {
   "cell_type": "code",
   "execution_count": 5,
   "metadata": {},
   "outputs": [],
   "source": [
    "# 2.\n",
    "browser.get(url2)\n",
    "html2 = browser.page_source\n",
    "soup2 = BeautifulSoup(html2, 'html.parser')\n",
    "soup2\n",
    "mars_pics = soup2.find_all('article', class_=\"carousel_item\")[0][\"style\"]"
   ]
  },
  {
   "cell_type": "code",
   "execution_count": 6,
   "metadata": {},
   "outputs": [
    {
     "data": {
      "text/plain": [
       "'https://www.jpl.nasa.gov/spaceimages/images/wallpaper/PIA14400-1920x1200.jpg'"
      ]
     },
     "execution_count": 6,
     "metadata": {},
     "output_type": "execute_result"
    }
   ],
   "source": [
    "relative_path2 = mars_pics.split(\"('\")[1].split(\"'\")[0]\n",
    "full_path2 = 'https://www.jpl.nasa.gov' + relative_path2\n",
    "full_path2"
   ]
  },
  {
   "cell_type": "code",
   "execution_count": 7,
   "metadata": {},
   "outputs": [
    {
     "name": "stdout",
     "output_type": "stream",
     "text": [
      "background-image: url('/spaceimages/images/wallpaper/PIA14400-1920x1200.jpg');\n"
     ]
    }
   ],
   "source": [
    "featured_image_url = mars_pics\n",
    "print(featured_image_url)"
   ]
  },
  {
   "cell_type": "code",
   "execution_count": null,
   "metadata": {},
   "outputs": [],
   "source": [
    "# 3.\n",
    "#browser.get(url3)\n",
    "html3 = browser.page_source\n",
    "soup3 = BeautifulSoup(html3, 'html.parser')\n",
    "mars_weather = soup3.find_all('div', class_=\"js-tweet-text-container\")[0].text\n",
    "#print(mars_weather)"
   ]
  },
  {
   "cell_type": "code",
   "execution_count": null,
   "metadata": {},
   "outputs": [],
   "source": [
    "# 4.\n",
    "#fact_table = pd.read_html(url4)"
   ]
  },
  {
   "cell_type": "code",
   "execution_count": null,
   "metadata": {},
   "outputs": [],
   "source": [
    "Mars_Earth_Comparison1 = fact_table[0]\n",
    "Mars_Earth_Comparison2 = fact_table[1]\n",
    "\n",
    "html_table1 = Mars_Earth_Comparison1.to_html()\n",
    "html_table2 = Mars_Earth_Comparison2.to_html()\n",
    "\n",
    "table1 = html_table1.replace('\\n', '')\n",
    "table2 = html_table2.replace('\\n', '')\n"
   ]
  },
  {
   "cell_type": "code",
   "execution_count": null,
   "metadata": {},
   "outputs": [],
   "source": [
    "browser.get(url5)"
   ]
  },
  {
   "cell_type": "code",
   "execution_count": null,
   "metadata": {},
   "outputs": [],
   "source": [
    "html5 = browser.page_source\n",
    "soup5 = BeautifulSoup(html5, 'html.parser')\n",
    "pictures = soup5.find_all('div', class_=\"item\")\n",
    "titles = soup5.find_all(\"div\", class_='description')"
   ]
  },
  {
   "cell_type": "code",
   "execution_count": null,
   "metadata": {},
   "outputs": [],
   "source": [
    "urls = []\n",
    "for picture in pictures:\n",
    "    print(picture.img[\"src\"]) \n",
    "    print(\"----------------------------------------\")\n",
    "    urls.append(picture.img[\"src\"])\n",
    "    \n",
    "#Get URL"
   ]
  },
  {
   "cell_type": "code",
   "execution_count": null,
   "metadata": {},
   "outputs": [],
   "source": [
    "websites = []\n",
    "for url in urls:\n",
    "    full_path3 = 'https://astrogeology.usgs.gov' + url\n",
    "    print(full_path3)\n",
    "    websites.append(full_path3)\n"
   ]
  },
  {
   "cell_type": "code",
   "execution_count": null,
   "metadata": {},
   "outputs": [],
   "source": [
    "websites"
   ]
  },
  {
   "cell_type": "code",
   "execution_count": null,
   "metadata": {},
   "outputs": [],
   "source": [
    "for url in urls:\n",
    "    print(url)"
   ]
  },
  {
   "cell_type": "code",
   "execution_count": null,
   "metadata": {},
   "outputs": [],
   "source": [
    "titles_list = []\n",
    "for title in titles:\n",
    "    print(title.h3.text)\n",
    "    titles_list.append(title.h3.text)"
   ]
  },
  {
   "cell_type": "code",
   "execution_count": null,
   "metadata": {},
   "outputs": [],
   "source": [
    "hemisphere_image_urls = []\n",
    "\n",
    "for i in np.arange(0,4):\n",
    "    tts ={\"Title: \":titles_list[i], \"img_url: \": urls[i]}\n",
    "    hemisphere_image_urls.append(tts)\n",
    "\n",
    "print(hemisphere_image_urls)"
   ]
  },
  {
   "cell_type": "code",
   "execution_count": null,
   "metadata": {},
   "outputs": [],
   "source": [
    "for hemisphere_image_url in hemisphere_image_urls:\n",
    "    print(hemisphere_image_url)\n",
    "    print(\"--------------------------------------------------------------------------------------------------------------\")\n",
    "   \n",
    "    "
   ]
  },
  {
   "cell_type": "code",
   "execution_count": null,
   "metadata": {},
   "outputs": [],
   "source": [
    "Mars_Data = {\"News Title\": News_Title, \"Content\": Content, \"Mars_Pic\": featured_image_url, \"Mars_Weather\": mars_weather}\n",
    "print(Mars_Data)"
   ]
  }
 ],
 "metadata": {
  "kernelspec": {
   "display_name": "Python 3",
   "language": "python",
   "name": "python3"
  },
  "language_info": {
   "codemirror_mode": {
    "name": "ipython",
    "version": 3
   },
   "file_extension": ".py",
   "mimetype": "text/x-python",
   "name": "python",
   "nbconvert_exporter": "python",
   "pygments_lexer": "ipython3",
   "version": "3.7.3"
  }
 },
 "nbformat": 4,
 "nbformat_minor": 2
}
